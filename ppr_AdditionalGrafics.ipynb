{
 "cells": [
  {
   "cell_type": "code",
   "execution_count": 22,
   "id": "9576d03e-fdfb-4d27-a20b-c65bb99a66dc",
   "metadata": {},
   "outputs": [],
   "source": [
    "import pandas as pd\n",
    "import numpy as np\n",
    "import matplotlib.pyplot as plt\n",
    "import time\n",
    "from environment import Environment, DirectedTree, DEFAULT, CONSTITUENT\n",
    "from prouter import Router\n",
    "from matplotlib.patches import Rectangle, Circle\n",
    "from matplotlib.ticker import AutoMinorLocator\n",
    "from matplotlib.collections import PatchCollection\n",
    "import matplotlib.dates as mdates\n",
    "import matplotlib.pyplot as plt"
   ]
  },
  {
   "cell_type": "markdown",
   "id": "eb05ce3b-f1e8-4a4d-aea1-5ebff6cdc816",
   "metadata": {},
   "source": [
    "## Set plot-style to seaborn paper"
   ]
  },
  {
   "cell_type": "code",
   "execution_count": 2,
   "id": "791a78aa-0b98-4eb5-b943-974f7291328c",
   "metadata": {},
   "outputs": [],
   "source": [
    "#plt.style.use(\"ggplot\")\n",
    "plt.style.use(\"seaborn\")\n",
    "plt.style.use(\"seaborn-paper\")"
   ]
  },
  {
   "cell_type": "code",
   "execution_count": 3,
   "id": "1014144e-687f-411d-936b-064e0a729731",
   "metadata": {},
   "outputs": [],
   "source": [
    "def preparation_env():\n",
    "    env = Environment()\n",
    "    #env.read_swmmoutfile(r\"C:\\Users\\albert/Documents/SWMMpulse/HS_calib_120_simp.out\")\n",
    "    env.read_swmmoutfile(r\"demo_swmm_out.out\")\n",
    "    #graph = DirectedTree.from_swmm(r\"C:\\Users\\albert/Documents/SWMMpulse/HS_calib_120_simp.inp\")\n",
    "    graph = DirectedTree.from_swmm(r\"demo_swmm-inp.inp\")\n",
    "    #node_data = pd.read_csv(r\"C:\\Users\\albert/Documents/SWMMpulse/HS_calib_120_simp/pop_node_data.csv\")\n",
    "    node_data = pd.read_csv(r\"pop_node_data.csv\")\n",
    "    node_data = node_data.set_index(\"NAME\").to_dict(orient=\"index\")\n",
    "    graph.add_nodevalues(node_data)\n",
    "    env.add_graph(graph)\n",
    "    return env\n",
    "\n",
    "def set_infectivity(r_inf, env):\n",
    "    env.information[\"groups\"][0][\"weight\"] = 1 - r_inf\n",
    "    env.information[\"groups\"][1][\"weight\"] = r_inf\n",
    "    return env"
   ]
  },
  {
   "cell_type": "markdown",
   "id": "56c1b15a-7798-48c6-bcb8-f98f69b04568",
   "metadata": {},
   "source": [
    "## Bristol defecation distribution"
   ]
  },
  {
   "cell_type": "code",
   "execution_count": 25,
   "id": "668b000c-b2a8-4a3b-b683-e497e1298cf2",
   "metadata": {},
   "outputs": [
    {
     "data": {
      "image/png": "[encoded data removed]",
      "text/plain": [
       "<Figure size 432x288 with 1 Axes>"
      ]
     },
     "metadata": {},
     "output_type": "display_data"
    }
   ],
   "source": [
    "fig, ax = plt.subplots(figsize=[6,4], constrained_layout=True)\n",
    "fig.suptitle(\"Defecation Pattern\")\n",
    "\n",
    "\n",
    "ax.set(xlabel=\"Hour of day\", ylabel=\"% of defecations\",\n",
    "       xlim=[-1,24], xticks=[0, 6, 12, 18, 23])\n",
    "ax.bar(x=np.arange(0,24), height=DEFAULT.PATTERN_BRISTOL)\n",
    "\n",
    "plt.savefig(r\"C:\\Users\\albert\\Nextcloud\\Documents\\Doktorat\\swmmPulse\\paper\\grafics\\def_pat.svg\")\n",
    "plt.savefig(r\"C:\\Users\\albert\\Nextcloud\\Documents\\Doktorat\\swmmPulse\\paper\\grafics\\def_pat.png\")"
   ]
  },
  {
   "cell_type": "markdown",
   "id": "ef3b891d-91d1-4185-9b3d-0c524cd81ac9",
   "metadata": {},
   "source": [
    "## Comparision dispersion fick / simplified"
   ]
  },
  {
   "cell_type": "code",
   "execution_count": 7,
   "id": "c85be41b-1c19-4f26-a1c2-d662baa528d7",
   "metadata": {},
   "outputs": [],
   "source": [
    "path = r\"C:\\Users\\albert\\Documents\\SWMMpulse\"\n",
    "router = Router()\n",
    "env = preparation_env()\n",
    "groot = env.graph.root\n",
    "\n",
    "cov = env.information[\"constituents\"][\"Cov-RNA\"]\n",
    "cov[\"fractions\"] = [1]\n",
    "cov[\"skewedness\"] = [[1,1]]\n",
    "env.information[\"constituents\"][\"Cov-RNA\"] = cov\n",
    "\n",
    "router.add_environment(env)\n",
    "\n",
    "#generate packets\n",
    "packets = router.environment.get_packets()\n",
    "\n",
    "#generate routetable\n",
    "routetable = router.route(packets=packets)\n",
    "\n",
    "#calculate timeseries data at network root\n",
    "processed = router.postprocess(routetable, packets, router.environment.information[\"constituents\"].get(CONSTITUENT.COV))\n",
    "\n",
    "#create dataframe\n",
    "timeseries = pd.DataFrame(processed, index=pd.date_range(\"2000-01-01\", freq=\"10S\", periods=8640))\n",
    "#calculate timeseries for entire catchment"
   ]
  },
  {
   "cell_type": "code",
   "execution_count": 8,
   "id": "4c5f7869-57d0-481a-a676-a706ccdf0a1c",
   "metadata": {},
   "outputs": [
    {
     "data": {
      "text/plain": "       classification        origin    t0 constituents          tm  \\\npid                                                                  \nP58659       infected  MH4407705988  2443         None  317.279565   \n\n                  dt  \npid                   \nP58659  15154.279565  ",
      "text/html": "<div>\n<style scoped>\n    .dataframe tbody tr th:only-of-type {\n        vertical-align: middle;\n    }\n\n    .dataframe tbody tr th {\n        vertical-align: top;\n    }\n\n    .dataframe thead th {\n        text-align: right;\n    }\n</style>\n<table border=\"1\" class=\"dataframe\">\n  <thead>\n    <tr style=\"text-align: right;\">\n      <th></th>\n      <th>classification</th>\n      <th>origin</th>\n      <th>t0</th>\n      <th>constituents</th>\n      <th>tm</th>\n      <th>dt</th>\n    </tr>\n    <tr>\n      <th>pid</th>\n      <th></th>\n      <th></th>\n      <th></th>\n      <th></th>\n      <th></th>\n      <th></th>\n    </tr>\n  </thead>\n  <tbody>\n    <tr>\n      <th>P58659</th>\n      <td>infected</td>\n      <td>MH4407705988</td>\n      <td>2443</td>\n      <td>None</td>\n      <td>317.279565</td>\n      <td>15154.279565</td>\n    </tr>\n  </tbody>\n</table>\n</div>"
     },
     "execution_count": 8,
     "metadata": {},
     "output_type": "execute_result"
    }
   ],
   "source": [
    "try:\n",
    "    packets.set_index(\"pid\", inplace=True)\n",
    "except:\n",
    "    pass\n",
    "packets[\"tm\"] = pd.Series(routetable[groot])\n",
    "packets[\"dt\"] = packets[\"tm\"] - packets[\"t0\"]\n",
    "packets[\"tm\"] = packets[\"tm\"] % 8640\n",
    "\n",
    "packets =  packets.loc[(packets[\"classification\"] == \"infected\")]\n",
    "pmaxid = packets.loc[packets[\"dt\"] == packets[\"dt\"].max()].index\n",
    "packets.loc[pmaxid]"
   ]
  },
  {
   "cell_type": "code",
   "execution_count": 14,
   "id": "c8c60d97-448f-48a0-856a-df0cb258423d",
   "metadata": {},
   "outputs": [
    {
     "data": {
      "text/plain": [
       "17771.724164960182"
      ]
     },
     "execution_count": 14,
     "metadata": {},
     "output_type": "execute_result"
    }
   ],
   "source": [
    "routetable[groot][pmaxid[0]]"
   ]
  },
  {
   "cell_type": "markdown",
   "id": "f8682aa5-a5d0-4c99-9f8f-2afe5ffae1b7",
   "metadata": {},
   "source": [
    "### dispersion after fick"
   ]
  },
  {
   "cell_type": "code",
   "execution_count": 119,
   "id": "54ea6179-39b8-4738-b6cf-4c39cb4144bf",
   "metadata": {},
   "outputs": [],
   "source": [
    "def disp_fick(tm, age):\n",
    "    E = 0.16\n",
    "    load = 1000\n",
    "    \n",
    "    link = env.graph.get_inletlinks(groot)[0]\n",
    "    flow_velocity = env.flow_velocities.get(link)[tm]\n",
    "    \n",
    "    reduced_load = load * np.e**(-0.114*age/86400)\n",
    "    \n",
    "    date_range = np.arange(8640)\n",
    "    delta_times = tm - date_range\n",
    "    delta_dists = delta_times * flow_velocity * 10\n",
    "\n",
    "    exponent = -(delta_dists**2)/(4*E*age)\n",
    "    scalar = reduced_load/(2*np.sqrt(np.pi*E*age))\n",
    "\n",
    "    concentrations_fick = scalar*np.e**exponent\n",
    "    concentrations_fick = pd.Series(concentrations_fick, index=pd.date_range(\"01-01-2000 00:00\", freq=\"10S\", periods = 8640), name=\"fick\")\n",
    "    return concentrations_fick\n",
    "\n",
    "def disp_simp(tm, age):\n",
    "    E = 0.16\n",
    "    load = 1000\n",
    "    \n",
    "    date_range = np.arange(8640)\n",
    "    \n",
    "    concentrations_simp = np.zeros(len(date_range))\n",
    "    d = 2 * (2 * E * age)**0.5 #m\n",
    "    peak = reduced_load / d\n",
    "    border = int(np.around(d / flow_velocity / 10)) #timesteps\n",
    "    concentrations_simp[tm-border:tm] = np.linspace(0, peak, border)\n",
    "    concentrations_simp[tm:tm+border] = np.linspace(peak, 0, border)\n",
    "    concentrations_simp = pd.Series(concentrations_simp, index=pd.date_range(\"01-01-2000 00:00\", freq=\"10S\", periods = 8640), name=\"simp\")\n",
    "    \n",
    "    return concentrations_simp"
   ]
  },
  {
   "cell_type": "code",
   "execution_count": 9,
   "id": "b494e5d8-67e1-4ccb-8232-58ca1cbfbdd2",
   "metadata": {},
   "outputs": [
    {
     "name": "stdout",
     "output_type": "stream",
     "text": [
      "tm: 317, age: 151542.7956546345\n",
      "load: 1000, reduced_load: 818.769807612013\n"
     ]
    }
   ],
   "source": [
    "tm = int(round(packets.loc[pmaxid,\"tm\"] % 8640, 0))\n",
    "age = float(packets.loc[pmaxid,\"dt\"]) * 10\n",
    "print(f\"tm: {tm}, age: {age}\")\n",
    "\n",
    "link = env.graph.get_inletlinks(groot)[0]\n",
    "flow_velocity = env.flow_velocities.get(link)[tm]\n",
    "E = env.information[\"dispersion_rate\"]\n",
    "load = env.information[\"constituents\"][\"Cov-RNA\"][\"specific_load\"]\n",
    "reduced_load = load * np.e**(-env.information[\"constituents\"][\"Cov-RNA\"][\"decay_rate\"]*age/86400)\n",
    "print(f\"load: {load}, reduced_load: {reduced_load}\")\n",
    "\n",
    "date_range = np.arange(8640)\n",
    "delta_times = tm - date_range\n",
    "delta_dists = delta_times * flow_velocity * 10 #10s\n",
    "\n",
    "concentrations = np.zeros(8640)\n",
    "\n",
    "exponent = -delta_dists**2/(4*E*age)\n",
    "scalar = reduced_load/(2*np.sqrt(np.pi*E*age))\n",
    "             \n",
    "concentrations = scalar*np.e**exponent\n",
    "concentrations = pd.Series(concentrations, index=pd.date_range(\"01-01-2000 00:00\", freq=\"10S\", periods = 8640))"
   ]
  },
  {
   "cell_type": "code",
   "execution_count": 76,
   "id": "b352713c-098f-494c-8176-61ad50fa70ac",
   "metadata": {},
   "outputs": [
    {
     "data": {
      "text/plain": "<matplotlib.legend.Legend at 0x23d99bb9eb0>"
     },
     "execution_count": 76,
     "metadata": {},
     "output_type": "execute_result"
    },
    {
     "data": {
      "text/plain": "<Figure size 400x300 with 1 Axes>",
      "image/png": "[encoded data removed]"
     },
     "metadata": {},
     "output_type": "display_data"
    }
   ],
   "source": [
    "plt.style.use(\"default\")\n",
    "fig, ax = plt.subplots(figsize=[4,3], constrained_layout=True)\n",
    "#fig.suptitle(\"Comparison of Fick's dispersion\\n with the simplified triangular model\")\n",
    "\n",
    "tm = int(round(packets.loc[pmaxid,\"tm\"] % 8640, 0))\n",
    "age = float(packets.loc[pmaxid,\"dt\"]) * 10\n",
    "\n",
    "#timeseries[pmaxid].plot(ax=ax)\n",
    "ax.set(xlabel=\"Time [HH:MM]\", ylabel=\"Passing RNA-concentration per second [gc/s]\")\n",
    "indexer = concentrations.loc[concentrations != 0].index\n",
    "\n",
    "locator = mdates.AutoDateLocator(minticks=3)\n",
    "formatter = mdates.DateFormatter('%H:%M')#locator\n",
    "ax.xaxis.set_major_locator(locator)\n",
    "#ax.xaxis.set_major_formatter(formatter)\n",
    "\n",
    "def time_formatter(t, pos):\n",
    "    return pd.to_datetime(t).strftime(\"%H:%M\")\n",
    "\n",
    "ax.xaxis.set_major_formatter(time_formatter)\n",
    "\n",
    "# assign date locator / formatter to the x-axis to get proper labels\n",
    "#ax.xaxis.set_minor_locator(AutoMinorLocator(n=3))\n",
    "\n",
    "#ax.set(xlim=[mdates.date2num(pd.to_datetime(\"2000-01-01 00:00:00\")),\n",
    "#             mdates.date2num(pd.to_datetime(\"2000-01-01 03:00:00\"))])\n",
    "\n",
    "disp_fick(tm, age).plot(ax=ax)\n",
    "#concentrations.plot(ax=ax)\n",
    "disp_simp(tm, age).plot(color=\"lightcoral\", ax=ax)\n",
    "\n",
    "#ax.set(xlim=[indexer[0], indexer[-1]])\n",
    "ax.set(xlim=[pd.to_datetime(\"2000-01-01 00:00:00\").to_pydatetime(), pd.to_datetime(\"2000-01-01 03:00:00\").to_pydatetime()])\n",
    "\n",
    "plt.legend([\"Fick's dispersion\",\"Triangular\\ndispersion\"])\n",
    "\n",
    "#plt.savefig(r\"C:\\Users\\albert\\Nextcloud\\Documents\\Doktorat\\swmmPulse\\paper\\grafics\\disp_comp.svg\")\n",
    "#plt.savefig(r\"C:\\Users\\albert\\Nextcloud\\Documents\\Doktorat\\swmmPulse\\paper\\grafics\\disp_comp.png\", dpi=700)"
   ]
  },
  {
   "cell_type": "code",
   "execution_count": 18,
   "id": "7c97224b-b0f2-4d01-b332-cab1528a4c94",
   "metadata": {},
   "outputs": [
    {
     "name": "stdout",
     "output_type": "stream",
     "text": [
      "load ficks: 820.1381546612563\n",
      "load simpl: 820.9860697995632\n",
      "load simpl soll: 820.9860697995632\n",
      "\n",
      "repr. load: 100.1%\n"
     ]
    }
   ],
   "source": [
    "print(f\"load ficks: {concentrations.sum() * 10 * flow_velocity}\")\n",
    "print(f\"load simpl: {timeseries[pmaxid].sum().values[0] * 10 * flow_velocity}\")\n",
    "print(f\"load simpl soll: {disp_simp(tm, age).sum() * 10 * flow_velocity}\\n\")\n",
    "print(f\"repr. load: {disp_simp(tm, age).sum()/concentrations.sum():.1%}\")"
   ]
  },
  {
   "cell_type": "code",
   "execution_count": 138,
   "outputs": [
    {
     "data": {
      "text/plain": "<Figure size 300x200 with 1 Axes>",
      "image/png": "[encoded data removed]"
     },
     "metadata": {},
     "output_type": "display_data"
    }
   ],
   "source": [
    "plt.style.use(\"default\")\n",
    "plt.rcParams.update({'font.size': 9})\n",
    "\n",
    "fig, ax = plt.subplots(figsize=[3,2], constrained_layout=True, facecolor=\"white\")\n",
    "\n",
    "# assign date locator / formatter to the x-axis to get proper labels\n",
    "locator = mdates.AutoDateLocator(minticks=3, maxticks=5)\n",
    "formatter = mdates.DateFormatter('%H:%M')#locator\n",
    "ax.xaxis.set_major_locator(locator)\n",
    "ax.xaxis.set_major_formatter(formatter)\n",
    "ax.xaxis.set_minor_locator(AutoMinorLocator(n=3))\n",
    "ax.set(xlim=[mdates.date2num(pd.to_datetime(\"2000-01-01 00:40:00\")),\n",
    "                 mdates.date2num(pd.to_datetime(\"2000-01-01 01:30:00\"))],\n",
    "       ylim=[-0.1,2.0])\n",
    "ax.set(xlabel=\"Time [HH:MM]\", ylabel=\"RNA flux [gc/s]\")\n",
    "\n",
    "s_fick = disp_fick(tm, age)\n",
    "s_simp = disp_simp(tm, age)\n",
    "df = pd.concat([s_fick, s_simp], axis=1)\n",
    "df.to_parquet(r\"C:\\Users\\albert\\Documents\\SWMMpulse\\plots\\grfk_dispersions\\disp_comp.parquet\")\n",
    "df = df.set_index(mdates.date2num(df.index))\n",
    "\n",
    "df[\"fick\"].plot(ax=ax)\n",
    "#concentrations.plot(ax=ax)\n",
    "df[\"simp\"].plot(color=\"lightcoral\", ax=ax)\n",
    "#mdates.date2num(pd.to_datetime(sampletime))\n",
    "\n",
    "ax.legend([\"Fick's dispersion\",\"Triangular\\ndispersion\"], facecolor='seashell')\n",
    "\n",
    "plt.savefig(r\"C:\\Users\\albert\\Documents\\SWMMpulse\\plots\\grfk_dispersions\\disp_comp.svg\")\n",
    "plt.savefig(r\"C:\\Users\\albert\\Documents\\SWMMpulse\\plots\\grfk_dispersions\\disp_comp.png\", dpi=700)"
   ],
   "metadata": {
    "collapsed": false,
    "pycharm": {
     "name": "#%%\n"
    }
   }
  },
  {
   "cell_type": "code",
   "execution_count": 121,
   "id": "c4d66d4b-4f56-47e4-9dce-27ab12c79c35",
   "metadata": {},
   "outputs": [
    {
     "data": {
      "text/plain": "                             fick  simp\n2000-01-01 00:00:00  2.421510e-75   0.0\n2000-01-01 00:00:10  7.164489e-75   0.0\n2000-01-01 00:00:20  2.112495e-74   0.0\n2000-01-01 00:00:30  6.207514e-74   0.0\n2000-01-01 00:00:40  1.817822e-73   0.0\n...                           ...   ...\n2000-01-01 23:59:10  0.000000e+00   0.0\n2000-01-01 23:59:20  0.000000e+00   0.0\n2000-01-01 23:59:30  0.000000e+00   0.0\n2000-01-01 23:59:40  0.000000e+00   0.0\n2000-01-01 23:59:50  0.000000e+00   0.0\n\n[8640 rows x 2 columns]",
      "text/html": "<div>\n<style scoped>\n    .dataframe tbody tr th:only-of-type {\n        vertical-align: middle;\n    }\n\n    .dataframe tbody tr th {\n        vertical-align: top;\n    }\n\n    .dataframe thead th {\n        text-align: right;\n    }\n</style>\n<table border=\"1\" class=\"dataframe\">\n  <thead>\n    <tr style=\"text-align: right;\">\n      <th></th>\n      <th>fick</th>\n      <th>simp</th>\n    </tr>\n  </thead>\n  <tbody>\n    <tr>\n      <th>2000-01-01 00:00:00</th>\n      <td>2.421510e-75</td>\n      <td>0.0</td>\n    </tr>\n    <tr>\n      <th>2000-01-01 00:00:10</th>\n      <td>7.164489e-75</td>\n      <td>0.0</td>\n    </tr>\n    <tr>\n      <th>2000-01-01 00:00:20</th>\n      <td>2.112495e-74</td>\n      <td>0.0</td>\n    </tr>\n    <tr>\n      <th>2000-01-01 00:00:30</th>\n      <td>6.207514e-74</td>\n      <td>0.0</td>\n    </tr>\n    <tr>\n      <th>2000-01-01 00:00:40</th>\n      <td>1.817822e-73</td>\n      <td>0.0</td>\n    </tr>\n    <tr>\n      <th>...</th>\n      <td>...</td>\n      <td>...</td>\n    </tr>\n    <tr>\n      <th>2000-01-01 23:59:10</th>\n      <td>0.000000e+00</td>\n      <td>0.0</td>\n    </tr>\n    <tr>\n      <th>2000-01-01 23:59:20</th>\n      <td>0.000000e+00</td>\n      <td>0.0</td>\n    </tr>\n    <tr>\n      <th>2000-01-01 23:59:30</th>\n      <td>0.000000e+00</td>\n      <td>0.0</td>\n    </tr>\n    <tr>\n      <th>2000-01-01 23:59:40</th>\n      <td>0.000000e+00</td>\n      <td>0.0</td>\n    </tr>\n    <tr>\n      <th>2000-01-01 23:59:50</th>\n      <td>0.000000e+00</td>\n      <td>0.0</td>\n    </tr>\n  </tbody>\n</table>\n<p>8640 rows × 2 columns</p>\n</div>"
     },
     "execution_count": 121,
     "metadata": {},
     "output_type": "execute_result"
    }
   ],
   "source": [
    "s_fick = disp_fick(tm, age)\n",
    "s_simp = disp_simp(tm, age)\n",
    "pd.concat([s_fick, s_simp], axis=1)"
   ]
  },
  {
   "cell_type": "code",
   "execution_count": 85,
   "outputs": [
    {
     "data": {
      "text/plain": "                                0       dtindex\n2000-01-01 00:00:00  2.421510e-75  10957.000000\n2000-01-01 00:00:10  7.164489e-75  10957.000116\n2000-01-01 00:00:20  2.112495e-74  10957.000231\n2000-01-01 00:00:30  6.207514e-74  10957.000347\n2000-01-01 00:00:40  1.817822e-73  10957.000463\n...                           ...           ...\n2000-01-01 23:59:10  0.000000e+00  10957.999421\n2000-01-01 23:59:20  0.000000e+00  10957.999537\n2000-01-01 23:59:30  0.000000e+00  10957.999653\n2000-01-01 23:59:40  0.000000e+00  10957.999769\n2000-01-01 23:59:50  0.000000e+00  10957.999884\n\n[8640 rows x 2 columns]",
      "text/html": "<div>\n<style scoped>\n    .dataframe tbody tr th:only-of-type {\n        vertical-align: middle;\n    }\n\n    .dataframe tbody tr th {\n        vertical-align: top;\n    }\n\n    .dataframe thead th {\n        text-align: right;\n    }\n</style>\n<table border=\"1\" class=\"dataframe\">\n  <thead>\n    <tr style=\"text-align: right;\">\n      <th></th>\n      <th>0</th>\n      <th>dtindex</th>\n    </tr>\n  </thead>\n  <tbody>\n    <tr>\n      <th>2000-01-01 00:00:00</th>\n      <td>2.421510e-75</td>\n      <td>10957.000000</td>\n    </tr>\n    <tr>\n      <th>2000-01-01 00:00:10</th>\n      <td>7.164489e-75</td>\n      <td>10957.000116</td>\n    </tr>\n    <tr>\n      <th>2000-01-01 00:00:20</th>\n      <td>2.112495e-74</td>\n      <td>10957.000231</td>\n    </tr>\n    <tr>\n      <th>2000-01-01 00:00:30</th>\n      <td>6.207514e-74</td>\n      <td>10957.000347</td>\n    </tr>\n    <tr>\n      <th>2000-01-01 00:00:40</th>\n      <td>1.817822e-73</td>\n      <td>10957.000463</td>\n    </tr>\n    <tr>\n      <th>...</th>\n      <td>...</td>\n      <td>...</td>\n    </tr>\n    <tr>\n      <th>2000-01-01 23:59:10</th>\n      <td>0.000000e+00</td>\n      <td>10957.999421</td>\n    </tr>\n    <tr>\n      <th>2000-01-01 23:59:20</th>\n      <td>0.000000e+00</td>\n      <td>10957.999537</td>\n    </tr>\n    <tr>\n      <th>2000-01-01 23:59:30</th>\n      <td>0.000000e+00</td>\n      <td>10957.999653</td>\n    </tr>\n    <tr>\n      <th>2000-01-01 23:59:40</th>\n      <td>0.000000e+00</td>\n      <td>10957.999769</td>\n    </tr>\n    <tr>\n      <th>2000-01-01 23:59:50</th>\n      <td>0.000000e+00</td>\n      <td>10957.999884</td>\n    </tr>\n  </tbody>\n</table>\n<p>8640 rows × 2 columns</p>\n</div>"
     },
     "execution_count": 85,
     "metadata": {},
     "output_type": "execute_result"
    }
   ],
   "source": [
    "df_fick = pd.DataFrame(disp_fick(tm, age))\n",
    "df_fick[\"dtindex\"] = mdates.date2num(df_fick.index)\n",
    "df_fick"
   ],
   "metadata": {
    "collapsed": false,
    "pycharm": {
     "name": "#%%\n"
    }
   }
  },
  {
   "cell_type": "code",
   "execution_count": 90,
   "outputs": [
    {
     "data": {
      "text/plain": "DatetimeIndex(['2000-01-01 00:00:00', '2000-01-01 00:00:10',\n               '2000-01-01 00:00:20', '2000-01-01 00:00:30',\n               '2000-01-01 00:00:40', '2000-01-01 00:00:50',\n               '2000-01-01 00:01:00', '2000-01-01 00:01:10',\n               '2000-01-01 00:01:20', '2000-01-01 00:01:30',\n               ...\n               '2000-01-01 23:58:20', '2000-01-01 23:58:30',\n               '2000-01-01 23:58:40', '2000-01-01 23:58:50',\n               '2000-01-01 23:59:00', '2000-01-01 23:59:10',\n               '2000-01-01 23:59:20', '2000-01-01 23:59:30',\n               '2000-01-01 23:59:40', '2000-01-01 23:59:50'],\n              dtype='datetime64[ns]', length=8640, freq='10S')"
     },
     "execution_count": 90,
     "metadata": {},
     "output_type": "execute_result"
    }
   ],
   "source": [
    "disp_simp(tm, age).index"
   ],
   "metadata": {
    "collapsed": false,
    "pycharm": {
     "name": "#%%\n"
    }
   }
  },
  {
   "cell_type": "code",
   "execution_count": null,
   "outputs": [],
   "source": [],
   "metadata": {
    "collapsed": false,
    "pycharm": {
     "name": "#%%\n"
    }
   }
  }
 ],
 "metadata": {
  "kernelspec": {
   "display_name": "Python 3 (ipykernel)",
   "language": "python",
   "name": "python3"
  },
  "language_info": {
   "codemirror_mode": {
    "name": "ipython",
    "version": 3
   },
   "file_extension": ".py",
   "mimetype": "text/x-python",
   "name": "python",
   "nbconvert_exporter": "python",
   "pygments_lexer": "ipython3",
   "version": "3.8.8"
  }
 },
 "nbformat": 4,
 "nbformat_minor": 5
}