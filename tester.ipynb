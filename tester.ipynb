{
 "cells": [
  {
   "cell_type": "code",
   "execution_count": 1,
   "metadata": {},
   "outputs": [],
   "source": [
    "%load_ext autoreload\n",
    "%autoreload 2"
   ]
  },
  {
   "cell_type": "code",
   "execution_count": 2,
   "metadata": {},
   "outputs": [
    {
     "name": "stderr",
     "output_type": "stream",
     "text": [
      "c:\\users\\albert\\projekte\\swmmpulse\\venv\\lib\\site-packages\\tqdm\\auto.py:22: TqdmWarning: IProgress not found. Please update jupyter and ipywidgets. See https://ipywidgets.readthedocs.io/en/stable/user_install.html\n",
      "  from .autonotebook import tqdm as notebook_tqdm\n"
     ]
    }
   ],
   "source": [
    "import pandas as pd\n",
    "import numpy as np\n",
    "import matplotlib.pyplot as plt\n",
    "import time\n",
    "from environment import Environment, DirectedTree, DEFAULT, CONSTITUENT\n",
    "from prouter import Router\n",
    "from sampler import Sampler, strategies"
   ]
  },
  {
   "cell_type": "code",
   "execution_count": 3,
   "metadata": {},
   "outputs": [],
   "source": [
    "def preparation_env():\n",
    "    print(f\"Preparing environment\")\n",
    "    env = Environment()\n",
    "    print(f\"Reading swmm-outfile\")\n",
    "    env.read_swmmoutfile(r\"C:\\Users\\albert/Documents/SWMMpulse/HS_calib_120_simp.out\")\n",
    "    print(f\"Preparing graph\")\n",
    "    graph = DirectedTree.from_swmm(r\"C:\\Users\\albert/Documents/SWMMpulse/HS_calib_120_simp.inp\")\n",
    "    node_data = pd.read_csv(r\"C:\\Users\\albert/Documents/SWMMpulse/HS_calib_120_simp/pop_node_data.csv\")\n",
    "    node_data = node_data.set_index(\"NAME\").to_dict(orient=\"index\")\n",
    "    graph.add_nodevalues(node_data)\n",
    "    env.add_graph(graph)\n",
    "    print(f\"finished preparing environment\")\n",
    "    return env"
   ]
  },
  {
   "cell_type": "code",
   "execution_count": 4,
   "metadata": {},
   "outputs": [
    {
     "name": "stdout",
     "output_type": "stream",
     "text": [
      "Preparing environment\n",
      "Reading swmm-outfile\n",
      "Preparing graph\n",
      "finished preparing environment\n"
     ]
    }
   ],
   "source": [
    "env = preparation_env()\n",
    "router = Router()\n",
    "\n",
    "router.add_environment(env)\n",
    "packets = router.environment.get_packets()\n",
    "\n",
    "routetable = router.route(packets=packets)\n",
    "\n",
    "processed = router.postprocess(routetable, packets, DEFAULT.DEFAULT_CONSTITUENTS.get(CONSTITUENT.COV))"
   ]
  },
  {
   "cell_type": "code",
   "execution_count": 5,
   "metadata": {},
   "outputs": [
    {
     "data": {
      "text/plain": [
       "<AxesSubplot:>"
      ]
     },
     "execution_count": 5,
     "metadata": {},
     "output_type": "execute_result"
    },
    {
     "data": {
      "image/png": "[encoded data removed]",
      "text/plain": [
       "<Figure size 432x288 with 1 Axes>"
      ]
     },
     "metadata": {
      "needs_background": "light"
     },
     "output_type": "display_data"
    }
   ],
   "source": [
    "df = pd.DataFrame(processed, index=pd.date_range(\"2000-01-01\", freq=\"10S\", periods=8640))\n",
    "df.sum(axis=1).plot()"
   ]
  },
  {
   "cell_type": "code",
   "execution_count": 13,
   "metadata": {},
   "outputs": [
    {
     "data": {
      "text/plain": [
       "0    14.842084\n",
       "Name: concentration, dtype: float64"
      ]
     },
     "execution_count": 13,
     "metadata": {},
     "output_type": "execute_result"
    }
   ],
   "source": [
    "sampler = Sampler()\n",
    "#df.sum(axis=1)\n",
    "sampler.sample(df_timeseries=pd.DataFrame(df.sum(axis=1)), strategy=strategies[\"A\"])"
   ]
  },
  {
   "cell_type": "code",
   "execution_count": 18,
   "metadata": {},
   "outputs": [
    {
     "data": {
      "text/plain": [
       "{'A': {'kind': 'time',\n",
       "  'samplingfreq': '1H',\n",
       "  'samplingduration': 60,\n",
       "  'volume': 250},\n",
       " 'B': {'kind': 'time',\n",
       "  'samplingfreq': '0.3333333333333333H',\n",
       "  'samplingduration': 60,\n",
       "  'volume': 250},\n",
       " 'C': {'kind': 'flow',\n",
       "  'samplingfreq': '1H',\n",
       "  'samplingduration': 60,\n",
       "  'volume': 200},\n",
       " 'D': {'kind': 'flow',\n",
       "  'samplingfreq': '0.3333333333333333H',\n",
       "  'samplingduration': 60,\n",
       "  'volume': 200},\n",
       " 'E': {'kind': 'volume',\n",
       "  'samplecount': 24,\n",
       "  'samplingduration': 60,\n",
       "  'volume': 50},\n",
       " 'F': {'kind': 'volume',\n",
       "  'samplecount': 72,\n",
       "  'samplingduration': 60,\n",
       "  'volume': 250},\n",
       " 'G': {'kind': 'grab',\n",
       "  'samplingtime': datetime.time(9, 0),\n",
       "  'samplingduration': 120,\n",
       "  'volume': 1000},\n",
       " 'H': {'kind': 'grab',\n",
       "  'samplingtime': datetime.time(12, 0),\n",
       "  'samplingduration': 120,\n",
       "  'volume': 1000}}"
      ]
     },
     "execution_count": 18,
     "metadata": {},
     "output_type": "execute_result"
    }
   ],
   "source": [
    "strategies"
   ]
  },
  {
   "cell_type": "code",
   "execution_count": 17,
   "metadata": {},
   "outputs": [
    {
     "data": {
      "text/plain": [
       "6.0"
      ]
     },
     "execution_count": 17,
     "metadata": {},
     "output_type": "execute_result"
    }
   ],
   "source": [
    "import datetime as dt\n",
    "dt.timedelta(days=1) / pd.to_timedelta(\"4H\")"
   ]
  },
  {
   "cell_type": "code",
   "execution_count": null,
   "metadata": {},
   "outputs": [],
   "source": []
  }
 ],
 "metadata": {
  "kernelspec": {
   "display_name": "Python 3 (ipykernel)",
   "language": "python",
   "name": "python3"
  },
  "language_info": {
   "codemirror_mode": {
    "name": "ipython",
    "version": 3
   },
   "file_extension": ".py",
   "mimetype": "text/x-python",
   "name": "python",
   "nbconvert_exporter": "python",
   "pygments_lexer": "ipython3",
   "version": "3.8.8"
  }
 },
 "nbformat": 4,
 "nbformat_minor": 4
}