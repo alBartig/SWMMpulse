{
 "cells": [
  {
   "cell_type": "code",
   "execution_count": 1,
   "metadata": {},
   "outputs": [],
   "source": [
    "%load_ext autoreload\n",
    "%autoreload 2"
   ]
  },
  {
   "cell_type": "code",
   "execution_count": 23,
   "metadata": {},
   "outputs": [],
   "source": [
    "import pandas as pd\n",
    "import numpy as np\n",
    "import matplotlib.pyplot as plt\n",
    "import time\n",
    "from environment import Environment, DirectedTree, DEFAULT, CONSTITUENT\n",
    "from prouter import Router\n",
    "from sampler import Sampler, strategies"
   ]
  },
  {
   "cell_type": "code",
   "execution_count": 9,
   "metadata": {},
   "outputs": [],
   "source": [
    "def preparation_env():\n",
    "    print(f\"Preparing environment\")\n",
    "    env = Environment()\n",
    "    print(f\"Reading swmm-outfile\")\n",
    "    env.read_swmmoutfile(r\"C:\\Users\\albert/Documents/SWMMpulse/HS_calib_120_simp.out\")\n",
    "    print(f\"Preparing graph\")\n",
    "    graph = DirectedTree.from_swmm(r\"C:\\Users\\albert/Documents/SWMMpulse/HS_calib_120_simp.inp\")\n",
    "    node_data = pd.read_csv(r\"C:\\Users\\albert/Documents/SWMMpulse/HS_calib_120_simp/pop_node_data.csv\")\n",
    "    node_data = node_data.set_index(\"NAME\").to_dict(orient=\"index\")\n",
    "    graph.add_nodevalues(node_data)\n",
    "    env.add_graph(graph)\n",
    "    print(f\"finished preparing environment\")\n",
    "    return env"
   ]
  },
  {
   "cell_type": "code",
   "execution_count": 10,
   "metadata": {},
   "outputs": [
    {
     "name": "stderr",
     "output_type": "stream",
     "text": [
      "2022-03-25 11:38:11,781 Environment DEBUG  - pattern standardized\n",
      "2022-03-25 11:38:11,787 Environment DEBUG  - pattern standardized\n",
      "2022-03-25 11:38:11,788 Environment INFO  - Environment instance created\n",
      "2022-03-25 11:38:11,789 Environment INFO  - Reading swmm-out-file to read flows\n"
     ]
    },
    {
     "name": "stdout",
     "output_type": "stream",
     "text": [
      "Preparing environment\n",
      "Reading swmm-outfile\n"
     ]
    },
    {
     "name": "stderr",
     "output_type": "stream",
     "text": [
      "2022-03-25 11:38:14,978 Environment INFO  - Swmm-out-file read\n",
      "2022-03-25 11:38:15,002 Environment DEBUG  - Graph of type <class 'environment.DirectedTree'> added\n",
      "2022-03-25 11:38:15,013 Environment INFO  - Generating packets\n"
     ]
    },
    {
     "name": "stdout",
     "output_type": "stream",
     "text": [
      "Preparing graph\n",
      "finished preparing environment\n"
     ]
    },
    {
     "name": "stderr",
     "output_type": "stream",
     "text": [
      "2022-03-25 11:38:17,682 Environment INFO  - 58913 packets generated\n",
      "2022-03-25 11:38:17,690 Router INFO  - Routing packets\n",
      "2022-03-25 11:38:21,707 Router INFO  - 511 packets routed\n",
      "2022-03-25 11:38:21,777 Router INFO  - Postprocessing node MH4376405120 with flows from link MH327-088-1.1.\n",
      "Constituent rounted: Cov-RNA\n",
      "In groups: ['infected']\n",
      "Preparing arrays...\n",
      "2022-03-25 11:38:21,872 Router INFO  - arrays created in 0.0928964614868164 seconds\n",
      "Calculating timeseries...\n",
      "2022-03-25 11:38:21,966 Router INFO  - timeseries calculated in 0.0917806625366211 seconds\n",
      "Aggregating timeseries...\n",
      "2022-03-25 11:38:22,244 Router INFO  - timeseries aggregated in 0.27597784996032715 seconds\n",
      "\n"
     ]
    }
   ],
   "source": [
    "env = preparation_env()\n",
    "router = Router()\n",
    "\n",
    "router.add_environment(env)\n",
    "packets = router.environment.get_packets()\n",
    "\n",
    "routetable = router.route(packets=packets)\n",
    "\n",
    "processed = router.postprocess(routetable, packets, DEFAULT.DEFAULT_CONSTITUENTS.get(CONSTITUENT.COV))"
   ]
  },
  {
   "cell_type": "code",
   "execution_count": 13,
   "metadata": {},
   "outputs": [
    {
     "data": {
      "text/plain": [
       "<AxesSubplot:>"
      ]
     },
     "execution_count": 13,
     "metadata": {},
     "output_type": "execute_result"
    },
    {
     "data": {
      "image/png": "[encoded data removed]",
      "text/plain": [
       "<Figure size 432x288 with 1 Axes>"
      ]
     },
     "metadata": {
      "needs_background": "light"
     },
     "output_type": "display_data"
    }
   ],
   "source": [
    "df = pd.DataFrame(processed, index=pd.date_range(\"2000-01-01\", freq=\"10S\", periods=8640))\n",
    "df.sum(axis=1).plot()"
   ]
  },
  {
   "cell_type": "code",
   "execution_count": 24,
   "metadata": {},
   "outputs": [
    {
     "ename": "KeyError",
     "evalue": "\"None of [DatetimeIndex(['2022-03-25 00:00:00', '2022-03-25 00:00:10',\\n               '2022-03-25 00:00:20', '2022-03-25 00:00:30',\\n               '2022-03-25 00:00:40', '2022-03-25 00:00:50',\\n               '2022-03-25 01:00:00', '2022-03-25 01:00:10',\\n               '2022-03-25 01:00:20', '2022-03-25 01:00:30',\\n               ...\\n               '2022-03-25 22:00:20', '2022-03-25 22:00:30',\\n               '2022-03-25 22:00:40', '2022-03-25 22:00:50',\\n               '2022-03-25 23:00:00', '2022-03-25 23:00:10',\\n               '2022-03-25 23:00:20', '2022-03-25 23:00:30',\\n               '2022-03-25 23:00:40', '2022-03-25 23:00:50'],\\n              dtype='datetime64[ns]', length=144, freq=None)] are in the [index]\"",
     "output_type": "error",
     "traceback": [
      "\u001B[1;31m---------------------------------------------------------------------------\u001B[0m",
      "\u001B[1;31mKeyError\u001B[0m                                  Traceback (most recent call last)",
      "Input \u001B[1;32mIn [24]\u001B[0m, in \u001B[0;36m<cell line: 2>\u001B[1;34m()\u001B[0m\n\u001B[0;32m      1\u001B[0m sampler \u001B[38;5;241m=\u001B[39m Sampler()\n\u001B[1;32m----> 2\u001B[0m \u001B[43msampler\u001B[49m\u001B[38;5;241;43m.\u001B[39;49m\u001B[43msample\u001B[49m\u001B[43m(\u001B[49m\u001B[43mdf_timeseries\u001B[49m\u001B[38;5;241;43m=\u001B[39;49m\u001B[43mdf\u001B[49m\u001B[43m,\u001B[49m\u001B[43m \u001B[49m\u001B[43mstrategy\u001B[49m\u001B[38;5;241;43m=\u001B[39;49m\u001B[43mstrategies\u001B[49m\u001B[43m[\u001B[49m\u001B[38;5;124;43m\"\u001B[39;49m\u001B[38;5;124;43mA\u001B[39;49m\u001B[38;5;124;43m\"\u001B[39;49m\u001B[43m]\u001B[49m\u001B[43m)\u001B[49m\n",
      "File \u001B[1;32m~\\Projekte\\SWMMpulse\\sampler.py:135\u001B[0m, in \u001B[0;36mSampler.sample\u001B[1;34m(self, df_timeseries, strategy)\u001B[0m\n\u001B[0;32m    132\u001B[0m \u001B[38;5;28;01mif\u001B[39;00m kind \u001B[38;5;241m==\u001B[39m \u001B[38;5;124m\"\u001B[39m\u001B[38;5;124mtime\u001B[39m\u001B[38;5;124m\"\u001B[39m:\n\u001B[0;32m    133\u001B[0m     samplingindex \u001B[38;5;241m=\u001B[39m Sampler\u001B[38;5;241m.\u001B[39msampling_index_time(samplingfreq\u001B[38;5;241m=\u001B[39mstrategy\u001B[38;5;241m.\u001B[39mget(STRATEGY\u001B[38;5;241m.\u001B[39mSAMPLINGFREQ),\n\u001B[0;32m    134\u001B[0m                                                 duration\u001B[38;5;241m=\u001B[39mstrategy\u001B[38;5;241m.\u001B[39mget(STRATEGY\u001B[38;5;241m.\u001B[39mSAMPLINGDURATION))\n\u001B[1;32m--> 135\u001B[0m     sample_concs \u001B[38;5;241m=\u001B[39m \u001B[43mdf_timeseries\u001B[49m\u001B[38;5;241;43m.\u001B[39;49m\u001B[43mloc\u001B[49m\u001B[43m[\u001B[49m\u001B[43msamplingindex\u001B[49m\u001B[43m,\u001B[49m\u001B[43m:\u001B[49m\u001B[43m]\u001B[49m\u001B[38;5;241m.\u001B[39mmean()\n\u001B[0;32m    137\u001B[0m \u001B[38;5;28;01melif\u001B[39;00m kind \u001B[38;5;241m==\u001B[39m \u001B[38;5;124m\"\u001B[39m\u001B[38;5;124mflow\u001B[39m\u001B[38;5;124m\"\u001B[39m:\n\u001B[0;32m    138\u001B[0m     samplingindex \u001B[38;5;241m=\u001B[39m Sampler\u001B[38;5;241m.\u001B[39msampling_index_time(samplingfreq\u001B[38;5;241m=\u001B[39mstrategy\u001B[38;5;241m.\u001B[39mget(STRATEGY\u001B[38;5;241m.\u001B[39mSAMPLINGFREQ),\n\u001B[0;32m    139\u001B[0m                                                 duration\u001B[38;5;241m=\u001B[39mstrategy\u001B[38;5;241m.\u001B[39mget(STRATEGY\u001B[38;5;241m.\u001B[39mSAMPLINGDURATION))\n",
      "File \u001B[1;32mc:\\users\\albert\\projekte\\swmmpulse\\venv\\lib\\site-packages\\pandas\\core\\indexing.py:961\u001B[0m, in \u001B[0;36m_LocationIndexer.__getitem__\u001B[1;34m(self, key)\u001B[0m\n\u001B[0;32m    959\u001B[0m     \u001B[38;5;28;01mif\u001B[39;00m \u001B[38;5;28mself\u001B[39m\u001B[38;5;241m.\u001B[39m_is_scalar_access(key):\n\u001B[0;32m    960\u001B[0m         \u001B[38;5;28;01mreturn\u001B[39;00m \u001B[38;5;28mself\u001B[39m\u001B[38;5;241m.\u001B[39mobj\u001B[38;5;241m.\u001B[39m_get_value(\u001B[38;5;241m*\u001B[39mkey, takeable\u001B[38;5;241m=\u001B[39m\u001B[38;5;28mself\u001B[39m\u001B[38;5;241m.\u001B[39m_takeable)\n\u001B[1;32m--> 961\u001B[0m     \u001B[38;5;28;01mreturn\u001B[39;00m \u001B[38;5;28;43mself\u001B[39;49m\u001B[38;5;241;43m.\u001B[39;49m\u001B[43m_getitem_tuple\u001B[49m\u001B[43m(\u001B[49m\u001B[43mkey\u001B[49m\u001B[43m)\u001B[49m\n\u001B[0;32m    962\u001B[0m \u001B[38;5;28;01melse\u001B[39;00m:\n\u001B[0;32m    963\u001B[0m     \u001B[38;5;66;03m# we by definition only have the 0th axis\u001B[39;00m\n\u001B[0;32m    964\u001B[0m     axis \u001B[38;5;241m=\u001B[39m \u001B[38;5;28mself\u001B[39m\u001B[38;5;241m.\u001B[39maxis \u001B[38;5;129;01mor\u001B[39;00m \u001B[38;5;241m0\u001B[39m\n",
      "File \u001B[1;32mc:\\users\\albert\\projekte\\swmmpulse\\venv\\lib\\site-packages\\pandas\\core\\indexing.py:1149\u001B[0m, in \u001B[0;36m_LocIndexer._getitem_tuple\u001B[1;34m(self, tup)\u001B[0m\n\u001B[0;32m   1146\u001B[0m \u001B[38;5;28;01mif\u001B[39;00m \u001B[38;5;28mself\u001B[39m\u001B[38;5;241m.\u001B[39m_multi_take_opportunity(tup):\n\u001B[0;32m   1147\u001B[0m     \u001B[38;5;28;01mreturn\u001B[39;00m \u001B[38;5;28mself\u001B[39m\u001B[38;5;241m.\u001B[39m_multi_take(tup)\n\u001B[1;32m-> 1149\u001B[0m \u001B[38;5;28;01mreturn\u001B[39;00m \u001B[38;5;28;43mself\u001B[39;49m\u001B[38;5;241;43m.\u001B[39;49m\u001B[43m_getitem_tuple_same_dim\u001B[49m\u001B[43m(\u001B[49m\u001B[43mtup\u001B[49m\u001B[43m)\u001B[49m\n",
      "File \u001B[1;32mc:\\users\\albert\\projekte\\swmmpulse\\venv\\lib\\site-packages\\pandas\\core\\indexing.py:827\u001B[0m, in \u001B[0;36m_LocationIndexer._getitem_tuple_same_dim\u001B[1;34m(self, tup)\u001B[0m\n\u001B[0;32m    824\u001B[0m \u001B[38;5;28;01mif\u001B[39;00m com\u001B[38;5;241m.\u001B[39mis_null_slice(key):\n\u001B[0;32m    825\u001B[0m     \u001B[38;5;28;01mcontinue\u001B[39;00m\n\u001B[1;32m--> 827\u001B[0m retval \u001B[38;5;241m=\u001B[39m \u001B[38;5;28;43mgetattr\u001B[39;49m\u001B[43m(\u001B[49m\u001B[43mretval\u001B[49m\u001B[43m,\u001B[49m\u001B[43m \u001B[49m\u001B[38;5;28;43mself\u001B[39;49m\u001B[38;5;241;43m.\u001B[39;49m\u001B[43mname\u001B[49m\u001B[43m)\u001B[49m\u001B[38;5;241;43m.\u001B[39;49m\u001B[43m_getitem_axis\u001B[49m\u001B[43m(\u001B[49m\u001B[43mkey\u001B[49m\u001B[43m,\u001B[49m\u001B[43m \u001B[49m\u001B[43maxis\u001B[49m\u001B[38;5;241;43m=\u001B[39;49m\u001B[43mi\u001B[49m\u001B[43m)\u001B[49m\n\u001B[0;32m    828\u001B[0m \u001B[38;5;66;03m# We should never have retval.ndim < self.ndim, as that should\u001B[39;00m\n\u001B[0;32m    829\u001B[0m \u001B[38;5;66;03m#  be handled by the _getitem_lowerdim call above.\u001B[39;00m\n\u001B[0;32m    830\u001B[0m \u001B[38;5;28;01massert\u001B[39;00m retval\u001B[38;5;241m.\u001B[39mndim \u001B[38;5;241m==\u001B[39m \u001B[38;5;28mself\u001B[39m\u001B[38;5;241m.\u001B[39mndim\n",
      "File \u001B[1;32mc:\\users\\albert\\projekte\\swmmpulse\\venv\\lib\\site-packages\\pandas\\core\\indexing.py:1191\u001B[0m, in \u001B[0;36m_LocIndexer._getitem_axis\u001B[1;34m(self, key, axis)\u001B[0m\n\u001B[0;32m   1188\u001B[0m     \u001B[38;5;28;01mif\u001B[39;00m \u001B[38;5;28mhasattr\u001B[39m(key, \u001B[38;5;124m\"\u001B[39m\u001B[38;5;124mndim\u001B[39m\u001B[38;5;124m\"\u001B[39m) \u001B[38;5;129;01mand\u001B[39;00m key\u001B[38;5;241m.\u001B[39mndim \u001B[38;5;241m>\u001B[39m \u001B[38;5;241m1\u001B[39m:\n\u001B[0;32m   1189\u001B[0m         \u001B[38;5;28;01mraise\u001B[39;00m \u001B[38;5;167;01mValueError\u001B[39;00m(\u001B[38;5;124m\"\u001B[39m\u001B[38;5;124mCannot index with multidimensional key\u001B[39m\u001B[38;5;124m\"\u001B[39m)\n\u001B[1;32m-> 1191\u001B[0m     \u001B[38;5;28;01mreturn\u001B[39;00m \u001B[38;5;28;43mself\u001B[39;49m\u001B[38;5;241;43m.\u001B[39;49m\u001B[43m_getitem_iterable\u001B[49m\u001B[43m(\u001B[49m\u001B[43mkey\u001B[49m\u001B[43m,\u001B[49m\u001B[43m \u001B[49m\u001B[43maxis\u001B[49m\u001B[38;5;241;43m=\u001B[39;49m\u001B[43maxis\u001B[49m\u001B[43m)\u001B[49m\n\u001B[0;32m   1193\u001B[0m \u001B[38;5;66;03m# nested tuple slicing\u001B[39;00m\n\u001B[0;32m   1194\u001B[0m \u001B[38;5;28;01mif\u001B[39;00m is_nested_tuple(key, labels):\n",
      "File \u001B[1;32mc:\\users\\albert\\projekte\\swmmpulse\\venv\\lib\\site-packages\\pandas\\core\\indexing.py:1132\u001B[0m, in \u001B[0;36m_LocIndexer._getitem_iterable\u001B[1;34m(self, key, axis)\u001B[0m\n\u001B[0;32m   1129\u001B[0m \u001B[38;5;28mself\u001B[39m\u001B[38;5;241m.\u001B[39m_validate_key(key, axis)\n\u001B[0;32m   1131\u001B[0m \u001B[38;5;66;03m# A collection of keys\u001B[39;00m\n\u001B[1;32m-> 1132\u001B[0m keyarr, indexer \u001B[38;5;241m=\u001B[39m \u001B[38;5;28;43mself\u001B[39;49m\u001B[38;5;241;43m.\u001B[39;49m\u001B[43m_get_listlike_indexer\u001B[49m\u001B[43m(\u001B[49m\u001B[43mkey\u001B[49m\u001B[43m,\u001B[49m\u001B[43m \u001B[49m\u001B[43maxis\u001B[49m\u001B[43m)\u001B[49m\n\u001B[0;32m   1133\u001B[0m \u001B[38;5;28;01mreturn\u001B[39;00m \u001B[38;5;28mself\u001B[39m\u001B[38;5;241m.\u001B[39mobj\u001B[38;5;241m.\u001B[39m_reindex_with_indexers(\n\u001B[0;32m   1134\u001B[0m     {axis: [keyarr, indexer]}, copy\u001B[38;5;241m=\u001B[39m\u001B[38;5;28;01mTrue\u001B[39;00m, allow_dups\u001B[38;5;241m=\u001B[39m\u001B[38;5;28;01mTrue\u001B[39;00m\n\u001B[0;32m   1135\u001B[0m )\n",
      "File \u001B[1;32mc:\\users\\albert\\projekte\\swmmpulse\\venv\\lib\\site-packages\\pandas\\core\\indexing.py:1327\u001B[0m, in \u001B[0;36m_LocIndexer._get_listlike_indexer\u001B[1;34m(self, key, axis)\u001B[0m\n\u001B[0;32m   1324\u001B[0m ax \u001B[38;5;241m=\u001B[39m \u001B[38;5;28mself\u001B[39m\u001B[38;5;241m.\u001B[39mobj\u001B[38;5;241m.\u001B[39m_get_axis(axis)\n\u001B[0;32m   1325\u001B[0m axis_name \u001B[38;5;241m=\u001B[39m \u001B[38;5;28mself\u001B[39m\u001B[38;5;241m.\u001B[39mobj\u001B[38;5;241m.\u001B[39m_get_axis_name(axis)\n\u001B[1;32m-> 1327\u001B[0m keyarr, indexer \u001B[38;5;241m=\u001B[39m \u001B[43max\u001B[49m\u001B[38;5;241;43m.\u001B[39;49m\u001B[43m_get_indexer_strict\u001B[49m\u001B[43m(\u001B[49m\u001B[43mkey\u001B[49m\u001B[43m,\u001B[49m\u001B[43m \u001B[49m\u001B[43maxis_name\u001B[49m\u001B[43m)\u001B[49m\n\u001B[0;32m   1329\u001B[0m \u001B[38;5;28;01mreturn\u001B[39;00m keyarr, indexer\n",
      "File \u001B[1;32mc:\\users\\albert\\projekte\\swmmpulse\\venv\\lib\\site-packages\\pandas\\core\\indexes\\base.py:5782\u001B[0m, in \u001B[0;36mIndex._get_indexer_strict\u001B[1;34m(self, key, axis_name)\u001B[0m\n\u001B[0;32m   5779\u001B[0m \u001B[38;5;28;01melse\u001B[39;00m:\n\u001B[0;32m   5780\u001B[0m     keyarr, indexer, new_indexer \u001B[38;5;241m=\u001B[39m \u001B[38;5;28mself\u001B[39m\u001B[38;5;241m.\u001B[39m_reindex_non_unique(keyarr)\n\u001B[1;32m-> 5782\u001B[0m \u001B[38;5;28;43mself\u001B[39;49m\u001B[38;5;241;43m.\u001B[39;49m\u001B[43m_raise_if_missing\u001B[49m\u001B[43m(\u001B[49m\u001B[43mkeyarr\u001B[49m\u001B[43m,\u001B[49m\u001B[43m \u001B[49m\u001B[43mindexer\u001B[49m\u001B[43m,\u001B[49m\u001B[43m \u001B[49m\u001B[43maxis_name\u001B[49m\u001B[43m)\u001B[49m\n\u001B[0;32m   5784\u001B[0m keyarr \u001B[38;5;241m=\u001B[39m \u001B[38;5;28mself\u001B[39m\u001B[38;5;241m.\u001B[39mtake(indexer)\n\u001B[0;32m   5785\u001B[0m \u001B[38;5;28;01mif\u001B[39;00m \u001B[38;5;28misinstance\u001B[39m(key, Index):\n\u001B[0;32m   5786\u001B[0m     \u001B[38;5;66;03m# GH 42790 - Preserve name from an Index\u001B[39;00m\n",
      "File \u001B[1;32mc:\\users\\albert\\projekte\\swmmpulse\\venv\\lib\\site-packages\\pandas\\core\\indexes\\base.py:5842\u001B[0m, in \u001B[0;36mIndex._raise_if_missing\u001B[1;34m(self, key, indexer, axis_name)\u001B[0m\n\u001B[0;32m   5840\u001B[0m     \u001B[38;5;28;01mif\u001B[39;00m use_interval_msg:\n\u001B[0;32m   5841\u001B[0m         key \u001B[38;5;241m=\u001B[39m \u001B[38;5;28mlist\u001B[39m(key)\n\u001B[1;32m-> 5842\u001B[0m     \u001B[38;5;28;01mraise\u001B[39;00m \u001B[38;5;167;01mKeyError\u001B[39;00m(\u001B[38;5;124mf\u001B[39m\u001B[38;5;124m\"\u001B[39m\u001B[38;5;124mNone of [\u001B[39m\u001B[38;5;132;01m{\u001B[39;00mkey\u001B[38;5;132;01m}\u001B[39;00m\u001B[38;5;124m] are in the [\u001B[39m\u001B[38;5;132;01m{\u001B[39;00maxis_name\u001B[38;5;132;01m}\u001B[39;00m\u001B[38;5;124m]\u001B[39m\u001B[38;5;124m\"\u001B[39m)\n\u001B[0;32m   5844\u001B[0m not_found \u001B[38;5;241m=\u001B[39m \u001B[38;5;28mlist\u001B[39m(ensure_index(key)[missing_mask\u001B[38;5;241m.\u001B[39mnonzero()[\u001B[38;5;241m0\u001B[39m]]\u001B[38;5;241m.\u001B[39munique())\n\u001B[0;32m   5845\u001B[0m \u001B[38;5;28;01mraise\u001B[39;00m \u001B[38;5;167;01mKeyError\u001B[39;00m(\u001B[38;5;124mf\u001B[39m\u001B[38;5;124m\"\u001B[39m\u001B[38;5;132;01m{\u001B[39;00mnot_found\u001B[38;5;132;01m}\u001B[39;00m\u001B[38;5;124m not in index\u001B[39m\u001B[38;5;124m\"\u001B[39m)\n",
      "\u001B[1;31mKeyError\u001B[0m: \"None of [DatetimeIndex(['2022-03-25 00:00:00', '2022-03-25 00:00:10',\\n               '2022-03-25 00:00:20', '2022-03-25 00:00:30',\\n               '2022-03-25 00:00:40', '2022-03-25 00:00:50',\\n               '2022-03-25 01:00:00', '2022-03-25 01:00:10',\\n               '2022-03-25 01:00:20', '2022-03-25 01:00:30',\\n               ...\\n               '2022-03-25 22:00:20', '2022-03-25 22:00:30',\\n               '2022-03-25 22:00:40', '2022-03-25 22:00:50',\\n               '2022-03-25 23:00:00', '2022-03-25 23:00:10',\\n               '2022-03-25 23:00:20', '2022-03-25 23:00:30',\\n               '2022-03-25 23:00:40', '2022-03-25 23:00:50'],\\n              dtype='datetime64[ns]', length=144, freq=None)] are in the [index]\""
     ]
    }
   ],
   "source": [
    "sampler = Sampler()\n",
    "sampler.sample(df_timeseries=df, strategy=strategies[\"A\"])"
   ]
  },
  {
   "cell_type": "code",
   "execution_count": 18,
   "metadata": {},
   "outputs": [
    {
     "data": {
      "text/plain": [
       "{'A': {'kind': 'time',\n",
       "  'samplingfreq': '1H',\n",
       "  'samplingduration': 60,\n",
       "  'volume': 250},\n",
       " 'B': {'kind': 'time',\n",
       "  'samplingfreq': '0.3333333333333333H',\n",
       "  'samplingduration': 60,\n",
       "  'volume': 250},\n",
       " 'C': {'kind': 'flow',\n",
       "  'samplingfreq': '1H',\n",
       "  'samplingduration': 60,\n",
       "  'volume': 200},\n",
       " 'D': {'kind': 'flow',\n",
       "  'samplingfreq': '0.3333333333333333H',\n",
       "  'samplingduration': 60,\n",
       "  'volume': 200},\n",
       " 'E': {'kind': 'volume',\n",
       "  'samplecount': 24,\n",
       "  'samplingduration': 60,\n",
       "  'volume': 50},\n",
       " 'F': {'kind': 'volume',\n",
       "  'samplecount': 72,\n",
       "  'samplingduration': 60,\n",
       "  'volume': 250},\n",
       " 'G': {'kind': 'grab',\n",
       "  'samplingtime': datetime.time(9, 0),\n",
       "  'samplingduration': 120,\n",
       "  'volume': 1000},\n",
       " 'H': {'kind': 'grab',\n",
       "  'samplingtime': datetime.time(12, 0),\n",
       "  'samplingduration': 120,\n",
       "  'volume': 1000}}"
      ]
     },
     "execution_count": 18,
     "metadata": {},
     "output_type": "execute_result"
    }
   ],
   "source": [
    "strategies"
   ]
  },
  {
   "cell_type": "code",
   "execution_count": null,
   "metadata": {},
   "outputs": [],
   "source": []
  }
 ],
 "metadata": {
  "kernelspec": {
   "display_name": "Python 3 (ipykernel)",
   "language": "python",
   "name": "python3"
  },
  "language_info": {
   "codemirror_mode": {
    "name": "ipython",
    "version": 3
   },
   "file_extension": ".py",
   "mimetype": "text/x-python",
   "name": "python",
   "nbconvert_exporter": "python",
   "pygments_lexer": "ipython3",
   "version": "3.8.8"
  }
 },
 "nbformat": 4,
 "nbformat_minor": 4
}