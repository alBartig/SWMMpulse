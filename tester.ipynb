{
 "cells": [
  {
   "cell_type": "code",
   "execution_count": 23,
   "metadata": {},
   "outputs": [
    {
     "name": "stdout",
     "output_type": "stream",
     "text": [
      "The autoreload extension is already loaded. To reload it, use:\n",
      "  %reload_ext autoreload\n"
     ]
    }
   ],
   "source": [
    "%load_ext autoreload\n",
    "%autoreload 2"
   ]
  },
  {
   "cell_type": "code",
   "execution_count": 55,
   "metadata": {},
   "outputs": [],
   "source": [
    "import pandas as pd\n",
    "import numpy as np\n",
    "import matplotlib.pyplot as plt\n",
    "import time\n",
    "from environment import Environment, DirectedTree, DEFAULT, CONSTITUENT\n",
    "from prouter import Router\n",
    "from sampler import Sampler, strategies\n",
    "import logging"
   ]
  },
  {
   "cell_type": "code",
   "execution_count": 56,
   "metadata": {},
   "outputs": [],
   "source": [
    "def preparation_env():\n",
    "    print(f\"Preparing environment\")\n",
    "    env = Environment()\n",
    "    print(f\"Reading swmm-outfile\")\n",
    "    #env.read_swmmoutfile(r\"C:\\Users\\albert/Documents/SWMMpulse/HS_calib_120_simp.out\")\n",
    "    env.read_swmmoutfile(r\"demo_swmm_out.out\")\n",
    "    print(f\"Preparing graph\")\n",
    "    #graph = DirectedTree.from_swmm(r\"C:\\Users\\albert/Documents/SWMMpulse/HS_calib_120_simp.inp\")\n",
    "    graph = DirectedTree.from_swmm(r\"demo_swmm-inp.inp\")\n",
    "    #node_data = pd.read_csv(r\"C:\\Users\\albert/Documents/SWMMpulse/HS_calib_120_simp/pop_node_data.csv\")\n",
    "    node_data = pd.read_csv(r\"pop_node_data.csv\")\n",
    "    node_data = node_data.set_index(\"NAME\").to_dict(orient=\"index\")\n",
    "    graph.add_nodevalues(node_data)\n",
    "    env.add_graph(graph)\n",
    "    print(f\"finished preparing environment\")\n",
    "    return env"
   ]
  },
  {
   "cell_type": "code",
   "execution_count": 49,
   "metadata": {},
   "outputs": [
    {
     "data": {
      "text/plain": [
       "{'Fecal-Matter': {'name': 'Fecal-Matter',\n",
       "  'groups': ['infected', 'healthy'],\n",
       "  'specific_load': 200,\n",
       "  'unit': 'g',\n",
       "  'decay_rate': 0.0,\n",
       "  'fractions': array([1.]),\n",
       "  'skewedness': array([[1, 1]])},\n",
       " 'Cov-RNA': {'name': 'Cov-RNA',\n",
       "  'specific_load': 1000,\n",
       "  'unit': '#',\n",
       "  'decay_rate': 0.114,\n",
       "  'groups': ['infected'],\n",
       "  'fractions': array([0.5, 0.5]),\n",
       "  'skewedness': array([[1, 1],\n",
       "         [1, 7]])}}"
      ]
     },
     "execution_count": 49,
     "metadata": {},
     "output_type": "execute_result"
    }
   ],
   "source": [
    "#env.information[\"groups\"]\n",
    "env.information[\"constituents\"]"
   ]
  },
  {
   "cell_type": "code",
   "execution_count": 57,
   "metadata": {},
   "outputs": [
    {
     "name": "stderr",
     "output_type": "stream",
     "text": [
      "2022-04-09 14:46:56,763 Environment DEBUG  - pattern standardized\n",
      "2022-04-09 14:46:56,771 Environment DEBUG  - pattern standardized\n",
      "2022-04-09 14:46:56,772 Environment INFO  - Environment instance created\n",
      "2022-04-09 14:46:56,773 Environment INFO  - Reading swmm-out-file to read flows\n"
     ]
    },
    {
     "name": "stdout",
     "output_type": "stream",
     "text": [
      "Preparing environment\n",
      "Reading swmm-outfile\n"
     ]
    },
    {
     "name": "stderr",
     "output_type": "stream",
     "text": [
      "2022-04-09 14:46:58,853 Environment INFO  - Swmm-out-file read\n",
      "2022-04-09 14:46:58,879 Environment DEBUG  - Graph of type <class 'environment.DirectedTree'> added\n",
      "2022-04-09 14:46:58,889 Environment INFO  - Generating packets\n"
     ]
    },
    {
     "name": "stdout",
     "output_type": "stream",
     "text": [
      "Preparing graph\n",
      "finished preparing environment\n"
     ]
    },
    {
     "name": "stderr",
     "output_type": "stream",
     "text": [
      "2022-04-09 14:47:00,443 Environment INFO  - 58913 packets generated\n",
      "2022-04-09 14:47:00,448 Router INFO  - Routing packets\n",
      "2022-04-09 14:47:03,696 Router INFO  - 511 packets routed\n",
      "2022-04-09 14:47:03,737 Router INFO  - Postprocessing node MH4376405120 with flows from link MH327-088-1.1.\n",
      "Constituent rounted: Cov-RNA\n",
      "In groups: ['infected']\n",
      "Preparing arrays...\n",
      "2022-04-09 14:47:03,779 Router INFO  - arrays created in 0.041922807693481445 seconds\n",
      "Calculating timeseries...\n",
      "2022-04-09 14:47:03,804 Router INFO  - timeseries calculated in 0.024936199188232422 seconds\n",
      "Aggregating timeseries...\n",
      "2022-04-09 14:47:03,975 Router INFO  - timeseries aggregated in 0.1695089340209961 seconds\n",
      "\n"
     ]
    }
   ],
   "source": [
    "env = preparation_env()\n",
    "router = Router(loglvl=\"CRITICAL\")\n",
    "\n",
    "router.add_environment(env)\n",
    "packets = router.environment.get_packets()\n",
    "\n",
    "routetable = router.route(packets=packets)\n",
    "\n",
    "processed = router.postprocess(routetable, packets, env.information[\"constituents\"].get(CONSTITUENT.COV))"
   ]
  },
  {
   "cell_type": "code",
   "execution_count": 27,
   "metadata": {},
   "outputs": [
    {
     "data": {
      "text/plain": [
       "<AxesSubplot:>"
      ]
     },
     "execution_count": 27,
     "metadata": {},
     "output_type": "execute_result"
    },
    {
     "data": {
      "image/png": "[encoded data removed]",
      "text/plain": [
       "<Figure size 432x288 with 1 Axes>"
      ]
     },
     "metadata": {
      "needs_background": "light"
     },
     "output_type": "display_data"
    }
   ],
   "source": [
    "df = pd.DataFrame(processed, index=pd.date_range(\"2000-01-01\", freq=\"10S\", periods=8640))\n",
    "df.sum(axis=1).plot()"
   ]
  },
  {
   "cell_type": "code",
   "execution_count": 13,
   "metadata": {},
   "outputs": [
    {
     "data": {
      "text/plain": [
       "0    14.842084\n",
       "Name: concentration, dtype: float64"
      ]
     },
     "execution_count": 13,
     "metadata": {},
     "output_type": "execute_result"
    }
   ],
   "source": [
    "sampler = Sampler()\n",
    "#df.sum(axis=1)\n",
    "sampler.sample(df_timeseries=pd.DataFrame(df.sum(axis=1)), strategy=strategies[\"A\"])"
   ]
  },
  {
   "cell_type": "code",
   "execution_count": 18,
   "metadata": {},
   "outputs": [
    {
     "data": {
      "text/plain": [
       "{'A': {'kind': 'time',\n",
       "  'samplingfreq': '1H',\n",
       "  'samplingduration': 60,\n",
       "  'volume': 250},\n",
       " 'B': {'kind': 'time',\n",
       "  'samplingfreq': '0.3333333333333333H',\n",
       "  'samplingduration': 60,\n",
       "  'volume': 250},\n",
       " 'C': {'kind': 'flow',\n",
       "  'samplingfreq': '1H',\n",
       "  'samplingduration': 60,\n",
       "  'volume': 200},\n",
       " 'D': {'kind': 'flow',\n",
       "  'samplingfreq': '0.3333333333333333H',\n",
       "  'samplingduration': 60,\n",
       "  'volume': 200},\n",
       " 'E': {'kind': 'volume',\n",
       "  'samplecount': 24,\n",
       "  'samplingduration': 60,\n",
       "  'volume': 50},\n",
       " 'F': {'kind': 'volume',\n",
       "  'samplecount': 72,\n",
       "  'samplingduration': 60,\n",
       "  'volume': 250},\n",
       " 'G': {'kind': 'grab',\n",
       "  'samplingtime': datetime.time(9, 0),\n",
       "  'samplingduration': 120,\n",
       "  'volume': 1000},\n",
       " 'H': {'kind': 'grab',\n",
       "  'samplingtime': datetime.time(12, 0),\n",
       "  'samplingduration': 120,\n",
       "  'volume': 1000}}"
      ]
     },
     "execution_count": 18,
     "metadata": {},
     "output_type": "execute_result"
    }
   ],
   "source": [
    "strategies"
   ]
  },
  {
   "cell_type": "code",
   "execution_count": 17,
   "metadata": {},
   "outputs": [
    {
     "data": {
      "text/plain": [
       "6.0"
      ]
     },
     "execution_count": 17,
     "metadata": {},
     "output_type": "execute_result"
    }
   ],
   "source": [
    "import datetime as dt\n",
    "dt.timedelta(days=1) / pd.to_timedelta(\"4H\")"
   ]
  },
  {
   "cell_type": "code",
   "execution_count": 59,
   "metadata": {},
   "outputs": [
    {
     "name": "stderr",
     "output_type": "stream",
     "text": [
      "2022-04-09 14:48:44,691 root INFO  - info\n",
      "2022-04-09 14:48:44,694 root DEBUG  - debug\n"
     ]
    }
   ],
   "source": [
    "import logging\n",
    "logging.basicConfig(level=logging.CRITICAL, format='%(message)s')\n",
    "logger = logging.getLogger(\"penis\")\n",
    "logger.setLevel(logging.CRITICAL)\n",
    "logger.info(\"info\")\n",
    "logging.info(\"info\")\n",
    "logging.debug(\"debug\")\n",
    "logger.debug(\"debug\")\n",
    "logger.warning(\"warning\")"
   ]
  },
  {
   "cell_type": "code",
   "execution_count": null,
   "metadata": {},
   "outputs": [],
   "source": []
  }
 ],
 "metadata": {
  "kernelspec": {
   "display_name": "Python 3 (ipykernel)",
   "language": "python",
   "name": "python3"
  },
  "language_info": {
   "codemirror_mode": {
    "name": "ipython",
    "version": 3
   },
   "file_extension": ".py",
   "mimetype": "text/x-python",
   "name": "python",
   "nbconvert_exporter": "python",
   "pygments_lexer": "ipython3",
   "version": "3.9.0"
  }
 },
 "nbformat": 4,
 "nbformat_minor": 4
}