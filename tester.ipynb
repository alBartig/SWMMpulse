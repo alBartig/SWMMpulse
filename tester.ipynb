{
 "cells": [
  {
   "cell_type": "code",
   "execution_count": 1,
   "metadata": {},
   "outputs": [],
   "source": [
    "%load_ext autoreload\n",
    "%autoreload 2"
   ]
  },
  {
   "cell_type": "code",
   "execution_count": 22,
   "metadata": {},
   "outputs": [],
   "source": [
    "import pandas as pd\n",
    "import numpy as np\n",
    "import matplotlib.pyplot as plt\n",
    "import time\n",
    "from environment import Environment, DirectedTree, DEFAULT, CONSTITUENT\n",
    "from prouter import Router"
   ]
  },
  {
   "cell_type": "code",
   "execution_count": 23,
   "metadata": {},
   "outputs": [],
   "source": [
    "def preparation_env():\n",
    "    print(f\"Preparing environment\")\n",
    "    env = Environment()\n",
    "    print(f\"Reading swmm-outfile\")\n",
    "    env.read_swmmoutfile(r\"C:\\Users\\albert/Documents/SWMMpulse/HS_calib_120_simp.out\")\n",
    "    print(f\"Preparing graph\")\n",
    "    graph = DirectedTree.from_swmm(r\"C:\\Users\\albert/Documents/SWMMpulse/HS_calib_120_simp.inp\")\n",
    "    node_data = pd.read_csv(r\"C:\\Users\\albert/Documents/SWMMpulse/HS_calib_120_simp/pop_node_data.csv\")\n",
    "    node_data = node_data.set_index(\"NAME\").to_dict(orient=\"index\")\n",
    "    graph.add_nodevalues(node_data)\n",
    "    env.add_graph(graph)\n",
    "    print(f\"finished preparing environment\")\n",
    "    return env"
   ]
  },
  {
   "cell_type": "code",
   "execution_count": 24,
   "metadata": {},
   "outputs": [
    {
     "name": "stdout",
     "output_type": "stream",
     "text": [
      "Preparing environment\n",
      "Preparing environment\n",
      "Reading swmm-outfile\n",
      "Preparing graph\n",
      "finished preparing environment\n",
      "1.4660000801086426 sekunden\n",
      "Preparing router\n",
      "0.0 sekunden\n",
      "finished preparing router\n",
      "Preparing packets\n",
      "1.2520012855529785 sekunden\n",
      "Routing packets\n",
      "1.9979987144470215 sekunden\n",
      "Postprocessing packets\n",
      "calculating timeseries\n",
      "0.019037961959838867 sekunden\n",
      "sum fractions\n",
      "0.07099437713623047 sekunden\n",
      "split days\n",
      "0.0 sekunden\n",
      "sum days\n",
      "0.020965576171875 sekunden\n",
      "convert dict\n",
      "0.0 sekunden\n",
      "2.180036783218384 sekunden\n",
      "finished router testing\n"
     ]
    }
   ],
   "source": [
    "print(f\"Preparing environment\")\n",
    "start = time.time()\n",
    "env = preparation_env()\n",
    "print(f\"{time.time() - start} sekunden\")\n",
    "\n",
    "print(f\"Preparing router\")\n",
    "start = time.time()\n",
    "print(f\"{time.time() - start} sekunden\")\n",
    "router = Router()\n",
    "router.add_environment(env)\n",
    "print(f\"finished preparing router\")\n",
    "\n",
    "print(f\"Preparing packets\")\n",
    "start = time.time()\n",
    "packets = router.environment.get_packets()\n",
    "print(f\"{time.time() - start} sekunden\")\n",
    "\n",
    "print(f\"Routing packets\")\n",
    "start = time.time()\n",
    "routetable = router.route(packets=packets)\n",
    "print(f\"{time.time()-start} sekunden\")\n",
    "\n",
    "print(f\"Postprocessing packets\")\n",
    "stat = time.time()\n",
    "processed = router.postprocess(routetable, packets, DEFAULT.DEFAULT_CONSTITUENTS.get(CONSTITUENT.COV))\n",
    "print(f\"{time.time()-start} sekunden\")\n",
    "print(f\"finished router testing\")"
   ]
  },
  {
   "cell_type": "code",
   "execution_count": 25,
   "metadata": {},
   "outputs": [
    {
     "data": {
      "text/plain": [
       "<AxesSubplot:>"
      ]
     },
     "execution_count": 25,
     "metadata": {},
     "output_type": "execute_result"
    },
    {
     "data": {
      "image/png": "[encoded data removed]",
      "text/plain": [
       "<Figure size 432x288 with 1 Axes>"
      ]
     },
     "metadata": {
      "needs_background": "light"
     },
     "output_type": "display_data"
    }
   ],
   "source": [
    "df = pd.DataFrame(processed, index=pd.date_range(\"2000-01-01\", freq=\"10S\", periods=8640))\n",
    "df.sum(axis=1).plot()"
   ]
  },
  {
   "cell_type": "code",
   "execution_count": 29,
   "metadata": {},
   "outputs": [
    {
     "data": {
      "text/plain": [
       "199.3620727822808"
      ]
     },
     "execution_count": 29,
     "metadata": {},
     "output_type": "execute_result"
    }
   ],
   "source": [
    "df.sum(axis=1).sum() / 589"
   ]
  },
  {
   "cell_type": "code",
   "execution_count": 28,
   "metadata": {},
   "outputs": [
    {
     "name": "stdout",
     "output_type": "stream",
     "text": [
      "<class 'pandas.core.frame.DataFrame'>\n",
      "DatetimeIndex: 8640 entries, 2000-01-01 00:00:00 to 2000-01-01 23:59:50\n",
      "Freq: 10S\n",
      "Columns: 589 entries, P58324 to P58912\n",
      "dtypes: float64(589)\n",
      "memory usage: 38.9 MB\n"
     ]
    }
   ],
   "source": [
    "df.info()"
   ]
  },
  {
   "cell_type": "code",
   "execution_count": null,
   "metadata": {},
   "outputs": [],
   "source": []
  }
 ],
 "metadata": {
  "kernelspec": {
   "display_name": "Python 3 (ipykernel)",
   "language": "python",
   "name": "python3"
  },
  "language_info": {
   "codemirror_mode": {
    "name": "ipython",
    "version": 3
   },
   "file_extension": ".py",
   "mimetype": "text/x-python",
   "name": "python",
   "nbconvert_exporter": "python",
   "pygments_lexer": "ipython3",
   "version": "3.8.8"
  }
 },
 "nbformat": 4,
 "nbformat_minor": 4
}
