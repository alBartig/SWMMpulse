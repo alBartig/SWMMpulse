{
 "cells": [
  {
   "cell_type": "code",
   "execution_count": 1,
   "id": "fb37712d-309a-40c4-872e-9a5d049f9ad5",
   "metadata": {},
   "outputs": [],
   "source": [
    "%load_ext autoreload\n",
    "%autoreload 2"
   ]
  },
  {
   "cell_type": "code",
   "execution_count": 2,
   "id": "b0a5a11a-5960-4cac-a9db-749277085613",
   "metadata": {},
   "outputs": [
    {
     "name": "stderr",
     "output_type": "stream",
     "text": [
      "c:\\users\\albert\\projekte\\swmmpulse\\venv\\lib\\site-packages\\tqdm\\auto.py:22: TqdmWarning: IProgress not found. Please update jupyter and ipywidgets. See https://ipywidgets.readthedocs.io/en/stable/user_install.html\n",
      "  from .autonotebook import tqdm as notebook_tqdm\n"
     ]
    }
   ],
   "source": [
    "import pandas as pd\n",
    "import numpy as np\n",
    "import matplotlib.pyplot as plt\n",
    "import time\n",
    "from environment import Environment, DirectedTree, DEFAULT, CONSTITUENT\n",
    "from prouter import Router\n",
    "from sampler import Sampler, STRATEGIES\n",
    "import logging\n",
    "import json\n",
    "import os\n",
    "from tqdm import tqdm"
   ]
  },
  {
   "cell_type": "code",
   "execution_count": 3,
   "id": "78e1e2a0-4718-4c44-9ce8-d4831d0bd6a6",
   "metadata": {},
   "outputs": [],
   "source": [
    "def preparation_env():\n",
    "    env = Environment()\n",
    "    #env.read_swmmoutfile(r\"C:\\Users\\albert/Documents/SWMMpulse/HS_calib_120_simp.out\")\n",
    "    env.read_swmmoutfile(r\"demo_swmm_out.out\")\n",
    "    #graph = DirectedTree.from_swmm(r\"C:\\Users\\albert/Documents/SWMMpulse/HS_calib_120_simp.inp\")\n",
    "    graph = DirectedTree.from_swmm(r\"demo_swmm-inp.inp\")\n",
    "    #node_data = pd.read_csv(r\"C:\\Users\\albert/Documents/SWMMpulse/HS_calib_120_simp/pop_node_data.csv\")\n",
    "    node_data = pd.read_csv(r\"pop_node_data.csv\")\n",
    "    node_data = node_data.set_index(\"NAME\").to_dict(orient=\"index\")\n",
    "    graph.add_nodevalues(node_data)\n",
    "    env.add_graph(graph)\n",
    "    return env\n",
    "\n",
    "def set_infectivity(r_inf, env):\n",
    "    env.information[\"groups\"][0][\"weight\"] = 1 - r_inf\n",
    "    env.information[\"groups\"][1][\"weight\"] = r_inf\n",
    "    return env"
   ]
  },
  {
   "cell_type": "markdown",
   "id": "421a2279-19e3-43d3-bcc2-7ad147889714",
   "metadata": {},
   "source": [
    "## Simulations with fixed infection rates\n",
    "n Simulations for a given infection rate scenario are simulated and routetables and timeseries are stored at a given location.\n",
    "A set of infection rate scenarios is run"
   ]
  },
  {
   "cell_type": "code",
   "execution_count": 6,
   "id": "ee9a5e84-2352-4362-8a50-d141fb336751",
   "metadata": {},
   "outputs": [
    {
     "name": "stderr",
     "output_type": "stream",
     "text": [
      "infectionrate 0.002: 100%|███████████████████████████████████████████████████████████| 250/250 [14:25<00:00,  3.46s/it]\n",
      "infectionrate 0.004: 100%|███████████████████████████████████████████████████████████| 250/250 [14:28<00:00,  3.47s/it]\n",
      "infectionrate 0.006: 100%|███████████████████████████████████████████████████████████| 250/250 [14:50<00:00,  3.56s/it]\n",
      "infectionrate 0.008: 100%|███████████████████████████████████████████████████████████| 250/250 [14:46<00:00,  3.55s/it]\n",
      "infectionrate 0.010: 100%|███████████████████████████████████████████████████████████| 250/250 [15:32<00:00,  3.73s/it]\n",
      "infectionrate 0.012: 100%|███████████████████████████████████████████████████████████| 250/250 [16:50<00:00,  4.04s/it]\n",
      "infectionrate 0.014: 100%|███████████████████████████████████████████████████████████| 250/250 [16:44<00:00,  4.02s/it]"
     ]
    },
    {
     "name": "stdout",
     "output_type": "stream",
     "text": [
      "----------------------- MonteCarlo runs finished ----------------------------------\n"
     ]
    },
    {
     "name": "stderr",
     "output_type": "stream",
     "text": [
      "\n"
     ]
    }
   ],
   "source": [
    "path = r\"C:\\Users\\albert\\Documents\\SWMMpulse\"\n",
    "runnr = 1\n",
    "run = f\"00_run{runnr-1:d}\"\n",
    "\n",
    "router = Router()\n",
    "env = preparation_env()\n",
    "groot = env.graph.root\n",
    "\n",
    "cov = env.information[\"constituents\"][\"Cov-RNA\"]\n",
    "cov[\"fractions\"] = [1]\n",
    "cov[\"skewedness\"] = [[1,1]]\n",
    "env.information[\"constituents\"][\"Cov-RNA\"] = cov\n",
    "\n",
    "bins = pd.interval_range(start=0, end=7200, freq=1200)\n",
    "bins = bins.append(pd.interval_range(start=7200, end=14400, freq=3600))\n",
    "n = 250\n",
    "\n",
    "simid = 0\n",
    "\n",
    "for r_inf in np.arange(0.002, 0.016, 0.002):\n",
    "    \n",
    "    #update environment with new infectivity\n",
    "    env = set_infectivity(r_inf, env)\n",
    "    router.add_environment(env)\n",
    "    \n",
    "    for i in tqdm(range(n), desc=f\"infectionrate {r_inf:.3f}\"):\n",
    "        #generate packets\n",
    "        packets = router.environment.get_packets()\n",
    "        fname = f\"HS120_{f'{r_inf:.3f}'[2:]}_packets_{simid:06d}.json\"\n",
    "        packets.to_json(os.path.join(path, \"00_packets\", run, fname))\n",
    "        \n",
    "        #generate routetable\n",
    "        routetable = router.route(packets=packets)\n",
    "        \n",
    "        #write routetable at network root to file\n",
    "        fname = f\"HS120_{f'{r_inf:.3f}'[2:]}_routetable_{simid:06d}.json\"\n",
    "        with open(os.path.join(path, \"01_routetables\", run, fname),\"w\") as jobj:\n",
    "            jobj.write(json.dumps(routetable[groot]))\n",
    "        \n",
    "        #calculate timeseries data at network root\n",
    "        processed = router.postprocess(routetable, packets, env.information[\"constituents\"].get(CONSTITUENT.COV))\n",
    "        fname = f\"HS120_{f'{r_inf:.3f}'[2:]}_processed_{simid:06d}.json\"\n",
    "        \n",
    "        #create dataframe\n",
    "        timeseries = pd.DataFrame(processed, index=pd.date_range(\"2000-01-01\", freq=\"10S\", periods=8640))\n",
    "        #calculate timeseries for entire catchment\n",
    "        timeseries.sum(axis=1).to_json(os.path.join(path, \"02_processed\", run, fname))\n",
    "        \n",
    "        simid += 1\n",
    "\n",
    "print(\"----------------------- MonteCarlo runs finished ----------------------------------\")"
   ]
  },
  {
   "cell_type": "markdown",
   "id": "3fa8e3f2-a648-4e5f-a9a5-4f2a765df855",
   "metadata": {},
   "source": [
    "## Simulations with moving infectin rates\n",
    "n Simulations are run for infection rate scenarios between a start rate end an end rate. in between values are interpolated linearly by simulation id."
   ]
  },
  {
   "cell_type": "code",
   "execution_count": 4,
   "id": "c45b5661-0986-4cb4-8d33-c7efa559b4f9",
   "metadata": {},
   "outputs": [
    {
     "name": "stderr",
     "output_type": "stream",
     "text": [
      "Running scenarios...: 100%|██████████████████████████████████████████████████████| 2000/2000 [1:57:01<00:00,  3.51s/it]"
     ]
    },
    {
     "name": "stdout",
     "output_type": "stream",
     "text": [
      "----------------------- MonteCarlo runs finished ----------------------------------\n"
     ]
    },
    {
     "name": "stderr",
     "output_type": "stream",
     "text": [
      "\n"
     ]
    }
   ],
   "source": [
    "path = r\"C:\\Users\\albert\\Documents\\SWMMpulse\"\n",
    "runnr = 2\n",
    "run = f\"00_run{runnr-1:d}\"\n",
    "\n",
    "router = Router()\n",
    "env = preparation_env()\n",
    "groot = env.graph.root\n",
    "\n",
    "cov = env.information[\"constituents\"][\"Cov-RNA\"]\n",
    "cov[\"fractions\"] = [1]\n",
    "cov[\"skewedness\"] = [[1,1]]\n",
    "env.information[\"constituents\"][\"Cov-RNA\"] = cov\n",
    "\n",
    "bins = pd.interval_range(start=0, end=7200, freq=1200)\n",
    "bins = bins.append(pd.interval_range(start=7200, end=14400, freq=3600))\n",
    "n = 2000\n",
    "\n",
    "simid = 0\n",
    "\n",
    "for i in tqdm(range(n), desc=\"Running scenarios...\"):\n",
    "    \n",
    "    r_inf = np.around(0.002 + i*(0.016 - 0.002)/n, 4)\n",
    "    \n",
    "    #update environment with new infectivity\n",
    "    env = set_infectivity(r_inf, env)\n",
    "    router.add_environment(env)\n",
    "    \n",
    "    #generate packets\n",
    "    packets = router.environment.get_packets()\n",
    "    fname = f\"HS120_{f'{r_inf:.3f}'[2:]}_packets_{simid:06d}.json\"\n",
    "    packets.to_json(os.path.join(path, \"00_packets\", run, fname))\n",
    "\n",
    "    #generate routetable\n",
    "    routetable = router.route(packets=packets)\n",
    "\n",
    "    #write routetable at network root to file\n",
    "    fname = f\"HS120_{f'{r_inf:.3f}'[2:]}_routetable_{simid:06d}.json\"\n",
    "    with open(os.path.join(path, r\"01_routetables\", run, fname),\"w\") as jobj:\n",
    "        jobj.write(json.dumps(routetable[groot]))\n",
    "\n",
    "    #calculate timeseries data at network root\n",
    "    processed = router.postprocess(routetable, packets, env.information[\"constituents\"].get(CONSTITUENT.COV))\n",
    "    fname = f\"HS120_{f'{r_inf:.3f}'[2:]}_processed_{simid:06d}.json\"\n",
    "\n",
    "    #create dataframe\n",
    "    timeseries = pd.DataFrame(processed, index=pd.date_range(\"2000-01-01\", freq=\"10S\", periods=8640))\n",
    "    #calculate timeseries for entire catchment\n",
    "    timeseries.sum(axis=1).to_json(os.path.join(path, \"02_processed\", run, fname))\n",
    "        \n",
    "    simid += 1\n",
    "    \n",
    "print(\"----------------------- MonteCarlo runs finished ----------------------------------\")"
   ]
  },
  {
   "cell_type": "code",
   "execution_count": 14,
   "id": "0845c9b9-9166-43e2-a79d-5c12bc68e81b",
   "metadata": {},
   "outputs": [
    {
     "data": {
      "text/plain": [
       "{'name': 'Cov-RNA',\n",
       " 'specific_load': 1000,\n",
       " 'unit': '#',\n",
       " 'decay_rate': 0.114,\n",
       " 'groups': ['infected'],\n",
       " 'fractions': [1],\n",
       " 'skewedness': [1, 1]}"
      ]
     },
     "execution_count": 14,
     "metadata": {},
     "output_type": "execute_result"
    }
   ],
   "source": []
  },
  {
   "cell_type": "code",
   "execution_count": null,
   "id": "aa6077c4-4159-4a3d-9f61-569f60926cb8",
   "metadata": {},
   "outputs": [],
   "source": []
  }
 ],
 "metadata": {
  "kernelspec": {
   "display_name": "Python 3 (ipykernel)",
   "language": "python",
   "name": "python3"
  },
  "language_info": {
   "codemirror_mode": {
    "name": "ipython",
    "version": 3
   },
   "file_extension": ".py",
   "mimetype": "text/x-python",
   "name": "python",
   "nbconvert_exporter": "python",
   "pygments_lexer": "ipython3",
   "version": "3.8.8"
  }
 },
 "nbformat": 4,
 "nbformat_minor": 5
}